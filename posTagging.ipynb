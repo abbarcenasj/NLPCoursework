{
 "cells": [
  {
   "cell_type": "markdown",
   "metadata": {},
   "source": [
    "### Hidden Markov Model for Part-of-Speech tagging"
   ]
  },
  {
   "cell_type": "markdown",
   "metadata": {},
   "source": [
    "Use the first 10k tagged sentences from the Brown corpus to generate the components of a part-of-speech hidden markov model: \n",
    "1. Transition matrix\n",
    "2. Observation matrix\n",
    "3. Initial state distribution\n",
    "\n",
    "Use the universal tagset:\n",
    "*nltk.corpus.brown.tagged_sents(tagset=’universal’)[:10000]*.\n",
    "\n",
    "Also, hang on to the mappings between states/observations and indices. Include an OOV observation and smoothing everywhere."
   ]
  },
  {
   "cell_type": "code",
   "execution_count": 1,
   "metadata": {},
   "outputs": [],
   "source": [
    "import nltk\n",
    "import numpy as np\n",
    "import pandas as pd"
   ]
  },
  {
   "cell_type": "code",
   "execution_count": 2,
   "metadata": {},
   "outputs": [],
   "source": [
    "from collections import Counter"
   ]
  },
  {
   "cell_type": "code",
   "execution_count": 3,
   "metadata": {
    "scrolled": true
   },
   "outputs": [
    {
     "name": "stderr",
     "output_type": "stream",
     "text": [
      "[nltk_data] Downloading package brown to /Users/anabelen/nltk_data...\n",
      "[nltk_data]   Package brown is already up-to-date!\n",
      "[nltk_data] Downloading package universal_tagset to\n",
      "[nltk_data]     /Users/anabelen/nltk_data...\n",
      "[nltk_data]   Package universal_tagset is already up-to-date!\n"
     ]
    },
    {
     "data": {
      "text/plain": [
       "True"
      ]
     },
     "execution_count": 3,
     "metadata": {},
     "output_type": "execute_result"
    }
   ],
   "source": [
    "nltk.download('brown')\n",
    "nltk.download('universal_tagset')"
   ]
  },
  {
   "cell_type": "code",
   "execution_count": 4,
   "metadata": {
    "scrolled": true
   },
   "outputs": [
    {
     "data": {
      "text/plain": [
       "nltk.collections.LazySubsequence"
      ]
     },
     "execution_count": 4,
     "metadata": {},
     "output_type": "execute_result"
    }
   ],
   "source": [
    "tagset = nltk.corpus.brown.tagged_sents(tagset='universal')[:10000]\n",
    "type(tagset)"
   ]
  },
  {
   "cell_type": "markdown",
   "metadata": {},
   "source": [
    "** 1. Transition Matrix **"
   ]
  },
  {
   "cell_type": "markdown",
   "metadata": {},
   "source": [
    "Create list of part-of-speech (pos) sequences"
   ]
  },
  {
   "cell_type": "code",
   "execution_count": 5,
   "metadata": {},
   "outputs": [],
   "source": [
    "transitions = []\n",
    "for i in range(len(tagset)):\n",
    "    for j in range(len(tagset[i])-1):\n",
    "        tup = (tagset[i][j][1], tagset[i][j+1][1])\n",
    "        transitions.append(tup)"
   ]
  },
  {
   "cell_type": "code",
   "execution_count": 6,
   "metadata": {
    "scrolled": true
   },
   "outputs": [],
   "source": [
    "pos = set([transition[0] for transition in transitions])\n",
    "dictPos = dict(zip(pos, [*range(len(pos))]))"
   ]
  },
  {
   "cell_type": "markdown",
   "metadata": {},
   "source": [
    "Create transition matrix count"
   ]
  },
  {
   "cell_type": "code",
   "execution_count": 7,
   "metadata": {},
   "outputs": [],
   "source": [
    "transitionCount = np.zeros((len(pos), len(pos)), dtype=int)\n",
    "for pair in transitions:\n",
    "    transitionCount[dictPos[pair[0]],dictPos[pair[1]]] += 1 "
   ]
  },
  {
   "cell_type": "markdown",
   "metadata": {},
   "source": [
    "Apply Laplace smoothing"
   ]
  },
  {
   "cell_type": "code",
   "execution_count": 8,
   "metadata": {},
   "outputs": [],
   "source": [
    "alpha = 0.1\n",
    "N = len(pos)\n",
    "\n",
    "transitionMatrix = (transitionCount+alpha)/((transitionCount.sum(axis=1).reshape(-1,1))+(alpha*N))"
   ]
  },
  {
   "cell_type": "code",
   "execution_count": 9,
   "metadata": {},
   "outputs": [
    {
     "data": {
      "text/html": [
       "<div>\n",
       "<style scoped>\n",
       "    .dataframe tbody tr th:only-of-type {\n",
       "        vertical-align: middle;\n",
       "    }\n",
       "\n",
       "    .dataframe tbody tr th {\n",
       "        vertical-align: top;\n",
       "    }\n",
       "\n",
       "    .dataframe thead th {\n",
       "        text-align: right;\n",
       "    }\n",
       "</style>\n",
       "<table border=\"1\" class=\"dataframe\">\n",
       "  <thead>\n",
       "    <tr style=\"text-align: right;\">\n",
       "      <th></th>\n",
       "      <th>ADV</th>\n",
       "      <th>ADJ</th>\n",
       "      <th>PRON</th>\n",
       "      <th>CONJ</th>\n",
       "      <th>DET</th>\n",
       "      <th>NUM</th>\n",
       "      <th>VERB</th>\n",
       "      <th>NOUN</th>\n",
       "      <th>PRT</th>\n",
       "      <th>.</th>\n",
       "      <th>X</th>\n",
       "      <th>ADP</th>\n",
       "    </tr>\n",
       "  </thead>\n",
       "  <tbody>\n",
       "    <tr>\n",
       "      <td>ADV</td>\n",
       "      <td>0.096352</td>\n",
       "      <td>0.150405</td>\n",
       "      <td>0.036258</td>\n",
       "      <td>0.013683</td>\n",
       "      <td>0.080666</td>\n",
       "      <td>0.015485</td>\n",
       "      <td>0.259147</td>\n",
       "      <td>0.040179</td>\n",
       "      <td>0.029369</td>\n",
       "      <td>0.139912</td>\n",
       "      <td>0.000223</td>\n",
       "      <td>0.138322</td>\n",
       "    </tr>\n",
       "    <tr>\n",
       "      <td>ADJ</td>\n",
       "      <td>0.007625</td>\n",
       "      <td>0.059252</td>\n",
       "      <td>0.002383</td>\n",
       "      <td>0.033286</td>\n",
       "      <td>0.006040</td>\n",
       "      <td>0.012806</td>\n",
       "      <td>0.015488</td>\n",
       "      <td>0.674812</td>\n",
       "      <td>0.018536</td>\n",
       "      <td>0.089424</td>\n",
       "      <td>0.000616</td>\n",
       "      <td>0.079732</td>\n",
       "    </tr>\n",
       "    <tr>\n",
       "      <td>PRON</td>\n",
       "      <td>0.059244</td>\n",
       "      <td>0.009116</td>\n",
       "      <td>0.009260</td>\n",
       "      <td>0.011716</td>\n",
       "      <td>0.014027</td>\n",
       "      <td>0.000737</td>\n",
       "      <td>0.733163</td>\n",
       "      <td>0.008971</td>\n",
       "      <td>0.022406</td>\n",
       "      <td>0.081780</td>\n",
       "      <td>0.000014</td>\n",
       "      <td>0.049565</td>\n",
       "    </tr>\n",
       "    <tr>\n",
       "      <td>CONJ</td>\n",
       "      <td>0.088092</td>\n",
       "      <td>0.117552</td>\n",
       "      <td>0.052589</td>\n",
       "      <td>0.000468</td>\n",
       "      <td>0.157134</td>\n",
       "      <td>0.019504</td>\n",
       "      <td>0.160306</td>\n",
       "      <td>0.289778</td>\n",
       "      <td>0.023583</td>\n",
       "      <td>0.022979</td>\n",
       "      <td>0.000317</td>\n",
       "      <td>0.067697</td>\n",
       "    </tr>\n",
       "  </tbody>\n",
       "</table>\n",
       "</div>"
      ],
      "text/plain": [
       "           ADV       ADJ      PRON      CONJ       DET       NUM      VERB  \\\n",
       "ADV   0.096352  0.150405  0.036258  0.013683  0.080666  0.015485  0.259147   \n",
       "ADJ   0.007625  0.059252  0.002383  0.033286  0.006040  0.012806  0.015488   \n",
       "PRON  0.059244  0.009116  0.009260  0.011716  0.014027  0.000737  0.733163   \n",
       "CONJ  0.088092  0.117552  0.052589  0.000468  0.157134  0.019504  0.160306   \n",
       "\n",
       "          NOUN       PRT         .         X       ADP  \n",
       "ADV   0.040179  0.029369  0.139912  0.000223  0.138322  \n",
       "ADJ   0.674812  0.018536  0.089424  0.000616  0.079732  \n",
       "PRON  0.008971  0.022406  0.081780  0.000014  0.049565  \n",
       "CONJ  0.289778  0.023583  0.022979  0.000317  0.067697  "
      ]
     },
     "execution_count": 9,
     "metadata": {},
     "output_type": "execute_result"
    }
   ],
   "source": [
    "transitionMatrixDf = pd.DataFrame(transitionMatrix, columns=dictPos, \n",
    "                                    index=dictPos); transitionMatrixDf.iloc[:4,:]"
   ]
  },
  {
   "cell_type": "markdown",
   "metadata": {},
   "source": [
    "** 2. Observation Matrix **"
   ]
  },
  {
   "cell_type": "code",
   "execution_count": 10,
   "metadata": {},
   "outputs": [],
   "source": [
    "wordPos = [tup for sentence in tagset for tup in sentence]"
   ]
  },
  {
   "cell_type": "code",
   "execution_count": 11,
   "metadata": {},
   "outputs": [],
   "source": [
    "words = set([tup[0] for tup in wordPos])\n",
    "dictWords = dict(zip(words, [*range(len(words))]))"
   ]
  },
  {
   "cell_type": "markdown",
   "metadata": {},
   "source": [
    "Create observation matrix count"
   ]
  },
  {
   "cell_type": "code",
   "execution_count": 12,
   "metadata": {},
   "outputs": [],
   "source": [
    "obsCount = np.zeros((len(pos), len(words)), dtype=int)\n",
    "\n",
    "for pair in wordPos:\n",
    "    obsCount[dictPos[pair[1]], dictWords[pair[0]]] += 1"
   ]
  },
  {
   "cell_type": "markdown",
   "metadata": {},
   "source": [
    "Create out-of-vocabulary (OOV) observation "
   ]
  },
  {
   "cell_type": "code",
   "execution_count": 13,
   "metadata": {},
   "outputs": [],
   "source": [
    "obsCount = np.append(obsCount, np.ones(12,).reshape(-1,1), axis=1)\n",
    "\n",
    "dictWords['oov'] = (obsCount.shape[1]-1) # Update words dict with oov observation"
   ]
  },
  {
   "cell_type": "markdown",
   "metadata": {},
   "source": [
    "Apply Laplace smoothing"
   ]
  },
  {
   "cell_type": "code",
   "execution_count": 14,
   "metadata": {},
   "outputs": [],
   "source": [
    "alpha = 0.01\n",
    "N = len(words)\n",
    "\n",
    "observationMatrix = (obsCount+alpha)/((obsCount.sum(axis=1).reshape(-1,1))+(alpha*N))"
   ]
  },
  {
   "cell_type": "code",
   "execution_count": 15,
   "metadata": {
    "scrolled": true
   },
   "outputs": [
    {
     "data": {
      "text/html": [
       "<div>\n",
       "<style scoped>\n",
       "    .dataframe tbody tr th:only-of-type {\n",
       "        vertical-align: middle;\n",
       "    }\n",
       "\n",
       "    .dataframe tbody tr th {\n",
       "        vertical-align: top;\n",
       "    }\n",
       "\n",
       "    .dataframe thead th {\n",
       "        text-align: right;\n",
       "    }\n",
       "</style>\n",
       "<table border=\"1\" class=\"dataframe\">\n",
       "  <thead>\n",
       "    <tr style=\"text-align: right;\">\n",
       "      <th></th>\n",
       "      <th>partially</th>\n",
       "      <th>links</th>\n",
       "      <th>precipitated</th>\n",
       "      <th>mid-September</th>\n",
       "      <th>Solly</th>\n",
       "      <th>wrangler</th>\n",
       "      <th>freckled</th>\n",
       "      <th>elephant</th>\n",
       "      <th>Conservatory</th>\n",
       "      <th>wealth</th>\n",
       "    </tr>\n",
       "  </thead>\n",
       "  <tbody>\n",
       "    <tr>\n",
       "      <td>ADV</td>\n",
       "      <td>3.108579e-04</td>\n",
       "      <td>1.032751e-06</td>\n",
       "      <td>1.032751e-06</td>\n",
       "      <td>1.032751e-06</td>\n",
       "      <td>1.032751e-06</td>\n",
       "      <td>1.032751e-06</td>\n",
       "      <td>1.032751e-06</td>\n",
       "      <td>1.032751e-06</td>\n",
       "      <td>1.032751e-06</td>\n",
       "      <td>1.032751e-06</td>\n",
       "    </tr>\n",
       "    <tr>\n",
       "      <td>ADJ</td>\n",
       "      <td>6.002084e-07</td>\n",
       "      <td>6.002084e-07</td>\n",
       "      <td>6.002084e-07</td>\n",
       "      <td>6.002084e-07</td>\n",
       "      <td>6.002084e-07</td>\n",
       "      <td>6.002084e-07</td>\n",
       "      <td>6.002084e-07</td>\n",
       "      <td>6.002084e-07</td>\n",
       "      <td>6.002084e-07</td>\n",
       "      <td>6.002084e-07</td>\n",
       "    </tr>\n",
       "    <tr>\n",
       "      <td>PRON</td>\n",
       "      <td>1.396867e-06</td>\n",
       "      <td>1.396867e-06</td>\n",
       "      <td>1.396867e-06</td>\n",
       "      <td>1.396867e-06</td>\n",
       "      <td>1.396867e-06</td>\n",
       "      <td>1.396867e-06</td>\n",
       "      <td>1.396867e-06</td>\n",
       "      <td>1.396867e-06</td>\n",
       "      <td>1.396867e-06</td>\n",
       "      <td>1.396867e-06</td>\n",
       "    </tr>\n",
       "    <tr>\n",
       "      <td>CONJ</td>\n",
       "      <td>1.459028e-06</td>\n",
       "      <td>1.459028e-06</td>\n",
       "      <td>1.459028e-06</td>\n",
       "      <td>1.459028e-06</td>\n",
       "      <td>1.459028e-06</td>\n",
       "      <td>1.459028e-06</td>\n",
       "      <td>1.459028e-06</td>\n",
       "      <td>1.459028e-06</td>\n",
       "      <td>1.459028e-06</td>\n",
       "      <td>1.459028e-06</td>\n",
       "    </tr>\n",
       "  </tbody>\n",
       "</table>\n",
       "</div>"
      ],
      "text/plain": [
       "         partially         links  precipitated  mid-September         Solly  \\\n",
       "ADV   3.108579e-04  1.032751e-06  1.032751e-06   1.032751e-06  1.032751e-06   \n",
       "ADJ   6.002084e-07  6.002084e-07  6.002084e-07   6.002084e-07  6.002084e-07   \n",
       "PRON  1.396867e-06  1.396867e-06  1.396867e-06   1.396867e-06  1.396867e-06   \n",
       "CONJ  1.459028e-06  1.459028e-06  1.459028e-06   1.459028e-06  1.459028e-06   \n",
       "\n",
       "          wrangler      freckled      elephant  Conservatory        wealth  \n",
       "ADV   1.032751e-06  1.032751e-06  1.032751e-06  1.032751e-06  1.032751e-06  \n",
       "ADJ   6.002084e-07  6.002084e-07  6.002084e-07  6.002084e-07  6.002084e-07  \n",
       "PRON  1.396867e-06  1.396867e-06  1.396867e-06  1.396867e-06  1.396867e-06  \n",
       "CONJ  1.459028e-06  1.459028e-06  1.459028e-06  1.459028e-06  1.459028e-06  "
      ]
     },
     "execution_count": 15,
     "metadata": {},
     "output_type": "execute_result"
    }
   ],
   "source": [
    "observationMatrixDf = pd.DataFrame(observationMatrix, columns=dictWords, \n",
    "                                     index=dictPos); observationMatrixDf.iloc[:4,:10]"
   ]
  },
  {
   "cell_type": "markdown",
   "metadata": {},
   "source": [
    "** 3. Initial state distribution **"
   ]
  },
  {
   "cell_type": "code",
   "execution_count": 16,
   "metadata": {},
   "outputs": [],
   "source": [
    "initStatesDist = []\n",
    "for i in range(len(tagset)):\n",
    "    initStatesDist.append(tagset[i][0][1])"
   ]
  },
  {
   "cell_type": "code",
   "execution_count": 17,
   "metadata": {},
   "outputs": [],
   "source": [
    "initStatesDist = Counter(initStatesDist)\n",
    "sumInitialStates = sum(initStatesDist.values())\n",
    "\n",
    "for k, value in initStatesDist.items():\n",
    "    initStatesDist[k] = value/sumInitialStates\n",
    "    \n",
    "initStatesProb = [initStatesDist[k] for k in list(transitionMatrixDf.columns)]"
   ]
  },
  {
   "cell_type": "markdown",
   "metadata": {},
   "source": [
    "Implement a function viterbi() that takes arguments:\n",
    "\n",
    "1. obs - the observations [list of ints]\n",
    "2. pi - the initial state probabilities [list of floats]\n",
    "3. A - the state transition probability matrix [2D numpy array] 4. B - the observation probability matrix [2D numpy array]\n",
    "\n",
    "and returns:\n",
    "1. states - the inferred state sequence [list of ints]\n",
    "\n",
    "Do everything in log space to avoid underflow.\n"
   ]
  },
  {
   "cell_type": "code",
   "execution_count": 18,
   "metadata": {},
   "outputs": [],
   "source": [
    "import pdb\n",
    "from typing import List, Tuple, Dict"
   ]
  },
  {
   "cell_type": "code",
   "execution_count": 19,
   "metadata": {},
   "outputs": [],
   "source": [
    "def ViterbiAlgorithm(obs: List[str], A: np.array, B: np.array, \n",
    "                     phi: List[float], dictWords: Dict[str,int], \n",
    "                     dictPos: Dict[str,int]) -> Tuple[List[str], List[str]]:\n",
    "    \n",
    "    N = len(obs)\n",
    "    T = A.shape[0]\n",
    "    viterbi = np.zeros((T,N), dtype=float)\n",
    "    posSelected = []\n",
    "    \n",
    "    # Initialization step\n",
    "    viterbi[:,0] = np.log(phi*B[:,dictWords[obs[0]]])\n",
    "    pos = np.argmax(viterbi[:,0])\n",
    "    posSelected.append(pos)\n",
    "    \n",
    "    # Recursion step\n",
    "    #pdb.set_trace()\n",
    "    for n in range(1,N):\n",
    "        if obs[n] in dictWords.keys():\n",
    "            viterbi[:,n] = np.log(A[pos,:]*B[:,dictWords[obs[n]]])\n",
    "        else:\n",
    "            viterbi[:,n] = np.log(A[pos,:]*B[:,dictWords['oov']]) # oov observation\n",
    "            \n",
    "        pos = np.argmax(viterbi[:,n])\n",
    "        posSelected.append(pos)    \n",
    "    \n",
    "    # Output two lists: words, predictedPos\n",
    "    predictedPos = []\n",
    "    for idx in posSelected:\n",
    "        predictedPos.append(list(dictPos.keys())[list(dictPos.values()).index(idx)]) \n",
    "    \n",
    "    return obs, predictedPos"
   ]
  },
  {
   "cell_type": "markdown",
   "metadata": {},
   "source": [
    "** Test algorithm **"
   ]
  },
  {
   "cell_type": "markdown",
   "metadata": {},
   "source": [
    "Use 3 sentences of the same Brown corpus to test and compare agaisnt the true POS"
   ]
  },
  {
   "cell_type": "code",
   "execution_count": 20,
   "metadata": {},
   "outputs": [],
   "source": [
    "test = nltk.corpus.brown.tagged_sents(tagset='universal')[10150:10153]\n",
    "obsList = [[tup[0] for tup in sentence] for sentence in test]\n",
    "truePos_ = [sublist[i][1] for sublist in test for i in range(len(sublist))]"
   ]
  },
  {
   "cell_type": "code",
   "execution_count": 21,
   "metadata": {},
   "outputs": [],
   "source": [
    "predictedPos_ = []\n",
    "A = transitionMatrix\n",
    "B = observationMatrix\n",
    "phi = initStatesProb\n",
    "\n",
    "for sentence in obsList:\n",
    "    obs, predictedPos  = ViterbiAlgorithm(sentence, A, B, phi, dictWords, dictPos)\n",
    "    predictedPos_.append(predictedPos)\n",
    "\n",
    "predictedPos_ = [pos for sentence in predictedPos_ for pos in sentence]\n",
    "\n",
    "truePred = [*zip(truePos_, predictedPos_)]"
   ]
  },
  {
   "cell_type": "code",
   "execution_count": 22,
   "metadata": {},
   "outputs": [
    {
     "name": "stdout",
     "output_type": "stream",
     "text": [
      "Accuracy: 0.9574468085106383\n"
     ]
    }
   ],
   "source": [
    "truePositive = []\n",
    "for i in range(len(truePos_)):\n",
    "    truePositive.append(truePos_[i]==predictedPos_[i])\n",
    "    \n",
    "accuracy = sum(truePositive)/len(truePositive)\n",
    "print('Accuracy: %s' %accuracy)"
   ]
  }
 ],
 "metadata": {
  "kernelspec": {
   "display_name": "Python 3",
   "language": "python",
   "name": "python3"
  },
  "language_info": {
   "codemirror_mode": {
    "name": "ipython",
    "version": 3
   },
   "file_extension": ".py",
   "mimetype": "text/x-python",
   "name": "python",
   "nbconvert_exporter": "python",
   "pygments_lexer": "ipython3",
   "version": "3.6.4"
  }
 },
 "nbformat": 4,
 "nbformat_minor": 2
}
